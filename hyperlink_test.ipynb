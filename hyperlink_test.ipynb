{
 "cells": [
  {
   "cell_type": "markdown",
   "id": "ceca6007-2f1b-499c-9307-59a46059c8a6",
   "metadata": {},
   "source": [
    "# Table of Contents\n",
    "- [Introduction](#section-1-introduction)\n",
    "  - [Background](#subsection-background)\n",
    "- [Analysis](#section-2-analysis)\n"
   ]
  },
  {
   "cell_type": "markdown",
   "id": "7666d818-5ea6-4f3e-81f7-d3872d18d2ab",
   "metadata": {},
   "source": [
    "# Section 1: Introduction\n",
    "This is the introduction section of the notebook.\n",
    "\n",
    "## Subsection: Background\n",
    "Detailed background information goes here."
   ]
  },
  {
   "cell_type": "markdown",
   "id": "ee5bcbda-964c-4cab-9153-39cf05d59b08",
   "metadata": {},
   "source": [
    "# Section 2: Analysis\n",
    "This section contains the analysis."
   ]
  },
  {
   "cell_type": "code",
   "execution_count": null,
   "id": "562494a7-e944-483c-ae25-1a78d367b2f5",
   "metadata": {},
   "outputs": [],
   "source": []
  }
 ],
 "metadata": {
  "kernelspec": {
   "display_name": "Python 3 (ipykernel)",
   "language": "python",
   "name": "python3"
  },
  "language_info": {
   "codemirror_mode": {
    "name": "ipython",
    "version": 3
   },
   "file_extension": ".py",
   "mimetype": "text/x-python",
   "name": "python",
   "nbconvert_exporter": "python",
   "pygments_lexer": "ipython3",
   "version": "3.10.14"
  }
 },
 "nbformat": 4,
 "nbformat_minor": 5
}
