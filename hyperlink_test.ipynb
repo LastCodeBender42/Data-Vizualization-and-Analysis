{
 "cells": [
  {
   "cell_type": "markdown",
   "id": "ceca6007-2f1b-499c-9307-59a46059c8a6",
   "metadata": {},
   "source": [
    "# Table of Contents\n",
    "\n",
    "<li><a href=\"intro\">Section 1: Introduction</li></a>\n",
    "<li><a href=\"background\">Subsection: Background</li></a>\n",
    "<li><a href=\"analysis\">Section 2: Analysis</li></a>\n",
    "\n",
    "<a id=\"background\"></a>\n",
    "## Subsection: Background\n",
    "Detailed background information goes here.\n",
    "\n",
    "<a id=\"analysis\"></a>\n",
    "# Section 2: Analysis\n",
    "This section contains the analysis."
   ]
  },
  {
   "cell_type": "markdown",
   "id": "42e658e4-bd9e-4c96-92f9-70a2b6a39f9b",
   "metadata": {},
   "source": [
    "\n",
    "<a id=\"intro\"></a>\n",
    "# Section 1: Introduction\n",
    "This is the introduction section of the notebook."
   ]
  },
  {
   "cell_type": "code",
   "execution_count": null,
   "id": "c9fba870-85ac-41ec-ab4c-3fce18092c01",
   "metadata": {},
   "outputs": [],
   "source": []
  },
  {
   "cell_type": "code",
   "execution_count": null,
   "id": "562494a7-e944-483c-ae25-1a78d367b2f5",
   "metadata": {},
   "outputs": [],
   "source": []
  }
 ],
 "metadata": {
  "kernelspec": {
   "display_name": "Python 3 (ipykernel)",
   "language": "python",
   "name": "python3"
  },
  "language_info": {
   "codemirror_mode": {
    "name": "ipython",
    "version": 3
   },
   "file_extension": ".py",
   "mimetype": "text/x-python",
   "name": "python",
   "nbconvert_exporter": "python",
   "pygments_lexer": "ipython3",
   "version": "3.10.14"
  }
 },
 "nbformat": 4,
 "nbformat_minor": 5
}
